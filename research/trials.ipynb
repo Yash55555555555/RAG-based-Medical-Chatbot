{
 "cells": [
  {
   "cell_type": "code",
   "execution_count": 1,
   "id": "8db26a09",
   "metadata": {},
   "outputs": [
    {
     "name": "stdout",
     "output_type": "stream",
     "text": [
      "yashy\n"
     ]
    }
   ],
   "source": [
    "print(\"yashy\")"
   ]
  },
  {
   "cell_type": "code",
   "execution_count": 4,
   "id": "30a4b9dd",
   "metadata": {},
   "outputs": [
    {
     "data": {
      "text/plain": [
       "'e:\\\\medical chatbot\\\\RAG-based-Medical-Chatbot'"
      ]
     },
     "execution_count": 4,
     "metadata": {},
     "output_type": "execute_result"
    }
   ],
   "source": [
    "%pwd"
   ]
  },
  {
   "cell_type": "code",
   "execution_count": 3,
   "id": "c1a812b0",
   "metadata": {},
   "outputs": [],
   "source": [
    "import os\n",
    "os.chdir(\"../\")"
   ]
  },
  {
   "cell_type": "code",
   "execution_count": 10,
   "id": "63116a59",
   "metadata": {},
   "outputs": [],
   "source": [
    "from langchain.document_loaders import PyPDFLoader, DirectoryLoader\n",
    "from langchain.text_splitter import RecursiveCharacterTextSplitter\n",
    "from langchain.embeddings import HuggingFaceEmbeddings\n",
    "from typing import List\n",
    "from langchain.schema import Document"
   ]
  },
  {
   "cell_type": "code",
   "execution_count": 6,
   "id": "a2e81c6e",
   "metadata": {},
   "outputs": [],
   "source": [
    "#Extract Data From the PDF File\n",
    "def load_pdf_file(data):\n",
    "    loader= DirectoryLoader(\n",
    "        data,\n",
    "        glob=\"*.pdf\",\n",
    "        loader_cls=PyPDFLoader,\n",
    "        )\n",
    "\n",
    "    documents=loader.load()\n",
    "\n",
    "    return documents"
   ]
  },
  {
   "cell_type": "code",
   "execution_count": 7,
   "id": "e2c9cf90",
   "metadata": {},
   "outputs": [],
   "source": [
    "extracted_data = load_pdf_file(\"data\")"
   ]
  },
  {
   "cell_type": "code",
   "execution_count": 9,
   "id": "90173119",
   "metadata": {},
   "outputs": [
    {
     "name": "stdout",
     "output_type": "stream",
     "text": [
      "637\n"
     ]
    }
   ],
   "source": [
    "print(len(extracted_data))"
   ]
  },
  {
   "cell_type": "code",
   "execution_count": 11,
   "id": "08ca9a4e",
   "metadata": {},
   "outputs": [],
   "source": [
    "def filter_to_minimal_docs(docs: List[Document]) -> List[Document]:\n",
    "    \"\"\"\n",
    "    Given a list of Document objects, return a new list of Document objects\n",
    "    containing only 'source' in metadata and the original page_content.\n",
    "    \"\"\"\n",
    "    minimal_docs: List[Document] = []\n",
    "    for doc in docs:\n",
    "        src = doc.metadata.get(\"source\")\n",
    "        minimal_docs.append(\n",
    "            Document(\n",
    "                page_content=doc.page_content,\n",
    "                metadata={\"source\": src}\n",
    "            )\n",
    "        )\n",
    "    return minimal_docs"
   ]
  },
  {
   "cell_type": "code",
   "execution_count": 12,
   "id": "cb0619ef",
   "metadata": {},
   "outputs": [],
   "source": [
    "minimal_docs = filter_to_minimal_docs(extracted_data)"
   ]
  },
  {
   "cell_type": "code",
   "execution_count": null,
   "id": "ed6faac7",
   "metadata": {},
   "outputs": [],
   "source": [
    "#Split the Data into Text Chunks\n",
    "def text_split(minimal_docs):\n",
    "    text_splitter=RecursiveCharacterTextSplitter(chunk_size=500, chunk_overlap=20, length_function=len)\n",
    "    text_chunks=text_splitter.split_documents(minimal_docs)\n",
    "    return text_chunks"
   ]
  },
  {
   "cell_type": "code",
   "execution_count": 15,
   "id": "38707612",
   "metadata": {},
   "outputs": [
    {
     "name": "stdout",
     "output_type": "stream",
     "text": [
      "Number of text chunks: 5859\n"
     ]
    }
   ],
   "source": [
    "text_chunks = text_split(minimal_docs)\n",
    "\n",
    "print(f\"Number of text chunks: {len(text_chunks)}\")"
   ]
  },
  {
   "cell_type": "code",
   "execution_count": 16,
   "id": "3c5a0d32",
   "metadata": {},
   "outputs": [],
   "source": [
    "#Download the Embeddings from HuggingFace \n",
    "def download_hugging_face_embeddings():\n",
    "    embeddings=HuggingFaceEmbeddings(model_name='sentence-transformers/all-MiniLM-L6-v2')  #this model return 384 dimensions\n",
    "    return embeddings"
   ]
  },
  {
   "cell_type": "code",
   "execution_count": 17,
   "id": "05062925",
   "metadata": {},
   "outputs": [
    {
     "name": "stderr",
     "output_type": "stream",
     "text": [
      "C:\\Users\\Yash Khandelwal\\AppData\\Local\\Temp\\ipykernel_1860\\590304937.py:3: LangChainDeprecationWarning: The class `HuggingFaceEmbeddings` was deprecated in LangChain 0.2.2 and will be removed in 1.0. An updated version of the class exists in the :class:`~langchain-huggingface package and should be used instead. To use it run `pip install -U :class:`~langchain-huggingface` and import as `from :class:`~langchain_huggingface import HuggingFaceEmbeddings``.\n",
      "  embeddings=HuggingFaceEmbeddings(model_name='sentence-transformers/all-MiniLM-L6-v2')  #this model return 384 dimensions\n",
      "e:\\anaconda3\\envs\\venv\\lib\\site-packages\\tqdm\\auto.py:21: TqdmWarning: IProgress not found. Please update jupyter and ipywidgets. See https://ipywidgets.readthedocs.io/en/stable/user_install.html\n",
      "  from .autonotebook import tqdm as notebook_tqdm\n"
     ]
    }
   ],
   "source": [
    "embeddings = download_hugging_face_embeddings()"
   ]
  },
  {
   "cell_type": "code",
   "execution_count": 18,
   "id": "6ae0c1ad",
   "metadata": {},
   "outputs": [
    {
     "data": {
      "text/plain": [
       "HuggingFaceEmbeddings(client=SentenceTransformer(\n",
       "  (0): Transformer({'max_seq_length': 256, 'do_lower_case': False}) with Transformer model: BertModel \n",
       "  (1): Pooling({'word_embedding_dimension': 384, 'pooling_mode_cls_token': False, 'pooling_mode_mean_tokens': True, 'pooling_mode_max_tokens': False, 'pooling_mode_mean_sqrt_len_tokens': False, 'pooling_mode_weightedmean_tokens': False, 'pooling_mode_lasttoken': False, 'include_prompt': True})\n",
       "  (2): Normalize()\n",
       "), model_name='sentence-transformers/all-MiniLM-L6-v2', cache_folder=None, model_kwargs={}, encode_kwargs={}, multi_process=False, show_progress=False)"
      ]
     },
     "execution_count": 18,
     "metadata": {},
     "output_type": "execute_result"
    }
   ],
   "source": [
    "embeddings"
   ]
  },
  {
   "cell_type": "code",
   "execution_count": 19,
   "id": "e6435194",
   "metadata": {},
   "outputs": [
    {
     "data": {
      "text/plain": [
       "[-0.03778517618775368,\n",
       " 0.15170325338840485,\n",
       " 0.00016722497821319848,\n",
       " -0.02188190259039402,\n",
       " 0.08836623281240463,\n",
       " 0.05721113830804825,\n",
       " 0.0317489318549633,\n",
       " 0.012825001031160355,\n",
       " 0.07328908890485764,\n",
       " 0.04098068177700043,\n",
       " 0.0587703101336956,\n",
       " 0.06926055252552032,\n",
       " -0.05780356377363205,\n",
       " -0.07808512449264526,\n",
       " -0.04693080484867096,\n",
       " 0.019873902201652527,\n",
       " 0.06573601812124252,\n",
       " 0.01087906863540411,\n",
       " 0.014504792168736458,\n",
       " 0.019363272935152054,\n",
       " -0.049098722636699677,\n",
       " -0.04259954020380974,\n",
       " 0.04426955059170723,\n",
       " 0.03993979096412659,\n",
       " -0.10405206680297852,\n",
       " 0.03856958448886871,\n",
       " -0.05554914474487305,\n",
       " -0.015496945939958096,\n",
       " 0.0686628669500351,\n",
       " -0.03543862700462341,\n",
       " 0.1025443747639656,\n",
       " 0.036379460245370865,\n",
       " 0.022359415888786316,\n",
       " 0.022364994511008263,\n",
       " 0.014204142615199089,\n",
       " -0.043799158185720444,\n",
       " 0.003482842817902565,\n",
       " -0.007823486812412739,\n",
       " -0.03559206426143646,\n",
       " 0.013100344687700272,\n",
       " 0.03448628634214401,\n",
       " -0.07137159258127213,\n",
       " -0.05834125354886055,\n",
       " 0.054483551532030106,\n",
       " -0.02763698436319828,\n",
       " -0.027162188664078712,\n",
       " -0.09445763379335403,\n",
       " 0.05246204882860184,\n",
       " 0.002564404159784317,\n",
       " 0.02426861971616745,\n",
       " -0.005459637846797705,\n",
       " -0.027702290564775467,\n",
       " -0.003189142094925046,\n",
       " -0.015840115025639534,\n",
       " -0.03207885101437569,\n",
       " -0.03708593547344208,\n",
       " 0.03299686685204506,\n",
       " -0.018024219200015068,\n",
       " -0.014788676053285599,\n",
       " -0.02424493245780468,\n",
       " 0.0042095789685845375,\n",
       " -0.016011597588658333,\n",
       " -0.0780690386891365,\n",
       " 0.03457682952284813,\n",
       " 0.051106639206409454,\n",
       " -0.0826164111495018,\n",
       " 0.030974209308624268,\n",
       " -0.042495112866163254,\n",
       " 0.08404309302568436,\n",
       " -0.08492229878902435,\n",
       " 0.025295879691839218,\n",
       " 0.004271135199815035,\n",
       " 0.04353535920381546,\n",
       " 0.026095861569046974,\n",
       " -0.055023547261953354,\n",
       " -0.030247125774621964,\n",
       " -0.03976437449455261,\n",
       " -0.040423545986413956,\n",
       " 0.037471551448106766,\n",
       " -0.059903308749198914,\n",
       " 0.05504646152257919,\n",
       " 0.004085503984242678,\n",
       " 0.012321880087256432,\n",
       " 0.03565674647688866,\n",
       " 0.021100951358675957,\n",
       " -0.01262830663472414,\n",
       " -0.004357256926596165,\n",
       " -0.06379307806491852,\n",
       " 0.04650862142443657,\n",
       " -0.02291581593453884,\n",
       " 0.09376668184995651,\n",
       " -0.07029440999031067,\n",
       " -0.0035541311372071505,\n",
       " 0.003738603787496686,\n",
       " -0.060535773634910583,\n",
       " 0.061683185398578644,\n",
       " -0.03801970183849335,\n",
       " 0.004809464327991009,\n",
       " -0.005548520479351282,\n",
       " 0.07748569548130035,\n",
       " 0.08095337450504303,\n",
       " -0.006849819794297218,\n",
       " -0.015016433782875538,\n",
       " -0.08550913631916046,\n",
       " -0.06844162195920944,\n",
       " -0.11497828364372253,\n",
       " -0.0017214403487741947,\n",
       " -0.06457432359457016,\n",
       " 0.04280616343021393,\n",
       " -0.02173399180173874,\n",
       " 0.021094748750329018,\n",
       " -0.00955194141715765,\n",
       " 0.048506833612918854,\n",
       " 0.0819624811410904,\n",
       " 0.008989756926894188,\n",
       " 0.08886905014514923,\n",
       " -0.06573502719402313,\n",
       " 0.04863172397017479,\n",
       " 0.043774913996458054,\n",
       " -0.019348900765180588,\n",
       " 0.06760646402835846,\n",
       " 0.029916198924183846,\n",
       " -0.049463097006082535,\n",
       " -0.0450584776699543,\n",
       " -0.002318422310054302,\n",
       " -0.01259690523147583,\n",
       " -0.07222826778888702,\n",
       " -7.910038872585425e-33,\n",
       " 0.01474679820239544,\n",
       " -0.056131765246391296,\n",
       " -0.048766497522592545,\n",
       " -0.014389032498002052,\n",
       " -0.0038068850990384817,\n",
       " 0.005879153963178396,\n",
       " -0.05225139483809471,\n",
       " -0.046260345727205276,\n",
       " 0.0041288211941719055,\n",
       " 0.035480279475450516,\n",
       " -0.03355436772108078,\n",
       " -0.08800680935382843,\n",
       " 0.030459856614470482,\n",
       " 0.03408466652035713,\n",
       " -0.048176124691963196,\n",
       " -0.03885721415281296,\n",
       " -0.1040908619761467,\n",
       " 0.0653747022151947,\n",
       " 0.0442715585231781,\n",
       " 0.046593550592660904,\n",
       " 0.04747043177485466,\n",
       " -0.0415874645113945,\n",
       " 0.04009930044412613,\n",
       " 0.0512910820543766,\n",
       " -0.11959459632635117,\n",
       " 0.01958453468978405,\n",
       " -0.027498099952936172,\n",
       " -0.0239848755300045,\n",
       " 0.024811850860714912,\n",
       " 0.01696394383907318,\n",
       " -0.026952292770147324,\n",
       " 0.05688947066664696,\n",
       " -0.019995488226413727,\n",
       " 0.028555558994412422,\n",
       " 0.05630151182413101,\n",
       " 0.03299376741051674,\n",
       " 0.020086992532014847,\n",
       " -0.06585593521595001,\n",
       " 0.009820486418902874,\n",
       " 0.0983135774731636,\n",
       " -0.008471289649605751,\n",
       " 0.012424016371369362,\n",
       " 0.08669288456439972,\n",
       " -0.021302692592144012,\n",
       " -0.007091389503329992,\n",
       " -0.05501369759440422,\n",
       " -0.08544455468654633,\n",
       " -0.04770011082291603,\n",
       " -0.013672192580997944,\n",
       " 0.06997384130954742,\n",
       " 0.04438014328479767,\n",
       " -0.027848893776535988,\n",
       " 0.01909629814326763,\n",
       " -0.06551935523748398,\n",
       " 0.021810343489050865,\n",
       " 0.09379637241363525,\n",
       " -0.05424177646636963,\n",
       " -0.019235001876950264,\n",
       " -0.012284229509532452,\n",
       " 0.024367086589336395,\n",
       " 0.054060082882642746,\n",
       " -0.05077311396598816,\n",
       " -0.08013290166854858,\n",
       " 0.13804784417152405,\n",
       " -0.08145758509635925,\n",
       " -0.007155574858188629,\n",
       " 0.018173474818468094,\n",
       " -0.13370932638645172,\n",
       " 0.038922980427742004,\n",
       " -0.022421112284064293,\n",
       " -0.06750808656215668,\n",
       " -0.013913396745920181,\n",
       " 0.05032099038362503,\n",
       " 0.015153531916439533,\n",
       " -0.048841845244169235,\n",
       " -0.06202076002955437,\n",
       " 0.05382027477025986,\n",
       " 0.07344792038202286,\n",
       " 0.027977406978607178,\n",
       " -0.05574831739068031,\n",
       " 0.003223949111998081,\n",
       " -0.014676453545689583,\n",
       " -0.04373627528548241,\n",
       " 0.05389239266514778,\n",
       " -0.04602011665701866,\n",
       " -0.007277264725416899,\n",
       " -0.024203671142458916,\n",
       " -0.10629362612962723,\n",
       " -0.041512202471494675,\n",
       " -0.040095254778862,\n",
       " 0.10805650800466537,\n",
       " -0.051373355090618134,\n",
       " -0.05627681314945221,\n",
       " 0.0019024907378479838,\n",
       " -0.009126723743975163,\n",
       " 2.9738589135743195e-33,\n",
       " -0.03646412491798401,\n",
       " -0.06968928873538971,\n",
       " -0.028991511091589928,\n",
       " -0.04664738476276398,\n",
       " 0.042594946920871735,\n",
       " 0.013982591219246387,\n",
       " -0.0137682119384408,\n",
       " -0.14455947279930115,\n",
       " -0.026859963312745094,\n",
       " 0.03461938351392746,\n",
       " -0.051494840532541275,\n",
       " 0.028116723522543907,\n",
       " 0.048810675740242004,\n",
       " 0.059487320482730865,\n",
       " -0.024089869111776352,\n",
       " 0.018322519958019257,\n",
       " 0.006436147261410952,\n",
       " -0.05078471079468727,\n",
       " -0.06959110498428345,\n",
       " -0.023191289976239204,\n",
       " 0.08145777136087418,\n",
       " 0.08415630459785461,\n",
       " 0.06447910517454147,\n",
       " -0.03014746680855751,\n",
       " -0.022087661549448967,\n",
       " -0.013471794314682484,\n",
       " 0.010757687501609325,\n",
       " -0.07670404016971588,\n",
       " 0.014688077382743359,\n",
       " 0.030596530064940453,\n",
       " 0.002799835754558444,\n",
       " -0.026581862941384315,\n",
       " -0.09040272980928421,\n",
       " 0.006340743973851204,\n",
       " -0.00035223996383138,\n",
       " 0.032856423407793045,\n",
       " 0.16554881632328033,\n",
       " -0.01230938732624054,\n",
       " -0.052022818475961685,\n",
       " -0.04057249054312706,\n",
       " -0.005417540669441223,\n",
       " 0.022251660004258156,\n",
       " 0.0035764125641435385,\n",
       " -0.03173073008656502,\n",
       " 0.002227095188573003,\n",
       " 0.11301068216562271,\n",
       " 0.0041801598854362965,\n",
       " 0.02126665599644184,\n",
       " 0.07157889008522034,\n",
       " -0.019598200917243958,\n",
       " 0.018080750480294228,\n",
       " 0.016272645443677902,\n",
       " 0.058479245752096176,\n",
       " 0.030087890103459358,\n",
       " -0.03872482478618622,\n",
       " -0.06732738763093948,\n",
       " -0.09339328855276108,\n",
       " -0.05734458193182945,\n",
       " 0.009306954219937325,\n",
       " 0.0775136724114418,\n",
       " -0.004125361796468496,\n",
       " 0.06106040999293327,\n",
       " -0.06773460656404495,\n",
       " 0.04931870847940445,\n",
       " 0.03252159804105759,\n",
       " 0.08282050490379333,\n",
       " -0.016218822449445724,\n",
       " -0.019351733848452568,\n",
       " 0.02225719951093197,\n",
       " 0.007087677717208862,\n",
       " 0.0191939864307642,\n",
       " -0.05398852378129959,\n",
       " -0.06345579773187637,\n",
       " -0.06696491688489914,\n",
       " 0.016733432188630104,\n",
       " 0.054915621876716614,\n",
       " -0.032098256051540375,\n",
       " -0.012865451164543629,\n",
       " -0.10573495179414749,\n",
       " -0.03874701261520386,\n",
       " -0.0013207488227635622,\n",
       " -0.1366119086742401,\n",
       " -0.026231618598103523,\n",
       " 0.051377952098846436,\n",
       " -0.016561008989810944,\n",
       " 0.003288185689598322,\n",
       " -0.02246832102537155,\n",
       " 0.03180980309844017,\n",
       " 0.028682004660367966,\n",
       " 0.07631514221429825,\n",
       " 0.015360061079263687,\n",
       " -0.04895893856883049,\n",
       " 0.032361067831516266,\n",
       " 0.06821475178003311,\n",
       " 0.026876406744122505,\n",
       " -1.743579680635321e-08,\n",
       " -0.03806215524673462,\n",
       " -0.05680878087878227,\n",
       " -0.04521552473306656,\n",
       " -0.012189488857984543,\n",
       " -0.03707214444875717,\n",
       " -0.047618091106414795,\n",
       " -0.018746159970760345,\n",
       " -0.03399999067187309,\n",
       " -0.03155190497636795,\n",
       " 0.007763400208204985,\n",
       " 0.04195927828550339,\n",
       " 0.049926917999982834,\n",
       " -0.02526092529296875,\n",
       " 0.044415414333343506,\n",
       " 0.03589509427547455,\n",
       " 0.03543198108673096,\n",
       " 0.013175280764698982,\n",
       " 0.021910961717367172,\n",
       " -0.02493996173143387,\n",
       " -0.010072708129882812,\n",
       " -0.01526962872594595,\n",
       " -0.015103462152183056,\n",
       " -0.014955618418753147,\n",
       " -0.053299371153116226,\n",
       " -0.005836095195263624,\n",
       " 0.0009971900144591928,\n",
       " 0.06050661578774452,\n",
       " 0.11658196896314621,\n",
       " 0.0038004869129508734,\n",
       " -0.009088156744837761,\n",
       " -0.0055920337326824665,\n",
       " 0.09915714710950851,\n",
       " 0.0059522343799471855,\n",
       " 0.044876180589199066,\n",
       " -0.04035591334104538,\n",
       " 0.028745310381054878,\n",
       " -0.06560730934143066,\n",
       " 0.06617042422294617,\n",
       " 0.055681973695755005,\n",
       " -0.02313501387834549,\n",
       " -0.06625652313232422,\n",
       " 0.01784462109208107,\n",
       " 0.03707455098628998,\n",
       " 0.011870735324919224,\n",
       " -0.0025106295943260193,\n",
       " -0.05735097452998161,\n",
       " -0.11041653901338577,\n",
       " 0.07978634536266327,\n",
       " 0.01918642967939377,\n",
       " -0.00016368774231523275,\n",
       " -0.060819633305072784,\n",
       " -0.01977512240409851,\n",
       " 0.025160228833556175,\n",
       " 0.04278649017214775,\n",
       " 0.10879897326231003,\n",
       " 0.07793304324150085,\n",
       " 0.08818696439266205,\n",
       " 0.007482706103473902,\n",
       " -0.03929814323782921,\n",
       " -0.03623201698064804,\n",
       " 0.07744089514017105,\n",
       " 0.10674268752336502,\n",
       " 0.024954598397016525,\n",
       " -0.06751392036676407]"
      ]
     },
     "execution_count": 19,
     "metadata": {},
     "output_type": "execute_result"
    }
   ],
   "source": [
    "vector = embeddings.embed_query(\"What is the purpose of this trial?\")  # Example query to test embeddings\n",
    "vector"
   ]
  },
  {
   "cell_type": "code",
   "execution_count": 20,
   "id": "e1d67132",
   "metadata": {},
   "outputs": [
    {
     "name": "stdout",
     "output_type": "stream",
     "text": [
      "384\n"
     ]
    }
   ],
   "source": [
    "print(len(vector))"
   ]
  },
  {
   "cell_type": "code",
   "execution_count": 21,
   "id": "62dee4b2",
   "metadata": {},
   "outputs": [
    {
     "data": {
      "text/plain": [
       "True"
      ]
     },
     "execution_count": 21,
     "metadata": {},
     "output_type": "execute_result"
    }
   ],
   "source": [
    "from dotenv import load_dotenv\n",
    "import os\n",
    "load_dotenv()"
   ]
  },
  {
   "cell_type": "code",
   "execution_count": 23,
   "id": "cbbb154a",
   "metadata": {},
   "outputs": [],
   "source": [
    "PINECONE_API_KEY = os.getenv(\"PINECONE_API_KEY\")\n",
    "OPENROUTER_API_KEY = os.getenv(\"OPENROUTER_API_KEY\")\n",
    "\n",
    "os.environ[\"PINECONE_API_KEY\"] = PINECONE_API_KEY\n",
    "os.environ[\"OPENROUTER_API_KEY\"] = OPENROUTER_API_KEY"
   ]
  },
  {
   "cell_type": "code",
   "execution_count": 24,
   "id": "09b789a4",
   "metadata": {},
   "outputs": [],
   "source": [
    "from pinecone import Pinecone\n",
    "pinecone_api_key = PINECONE_API_KEY\n",
    "\n",
    "pc = Pinecone(api_key=pinecone_api_key)\n"
   ]
  },
  {
   "cell_type": "code",
   "execution_count": 25,
   "id": "2bd212d5",
   "metadata": {},
   "outputs": [
    {
     "data": {
      "text/plain": [
       "<pinecone.pinecone.Pinecone at 0x15865bb6ec0>"
      ]
     },
     "execution_count": 25,
     "metadata": {},
     "output_type": "execute_result"
    }
   ],
   "source": [
    "pc"
   ]
  },
  {
   "cell_type": "code",
   "execution_count": 29,
   "id": "00b4ebfa",
   "metadata": {},
   "outputs": [],
   "source": [
    "from pinecone import Pinecone, ServerlessSpec\n",
    "\n",
    "pc = Pinecone(api_key=pinecone_api_key)\n",
    "\n",
    "index_name = \"medical-chatbot\"\n",
    "\n",
    "# Check if index exists\n",
    "if index_name not in [idx['name'] for idx in pc.list_indexes()]:\n",
    "    pc.create_index(\n",
    "        name=index_name,\n",
    "        dimension=384,  # dimension of your embeddings\n",
    "        metric=\"cosine\",\n",
    "        spec=ServerlessSpec(cloud=\"aws\", region=\"us-east-1\")\n",
    "    )\n",
    "\n",
    "# Connect to the index\n",
    "index = pc.Index(index_name)\n"
   ]
  },
  {
   "cell_type": "code",
   "execution_count": 30,
   "id": "b2940887",
   "metadata": {},
   "outputs": [],
   "source": [
    "from langchain_pinecone import PineconeVectorStore\n",
    "docsearch = PineconeVectorStore.from_documents(\n",
    "    documents=text_chunks,\n",
    "    embedding=embeddings,\n",
    "    index_name=index_name\n",
    "    \n",
    ")"
   ]
  },
  {
   "cell_type": "code",
   "execution_count": 31,
   "id": "6e5dacda",
   "metadata": {},
   "outputs": [],
   "source": [
    "# load existing index from the pinecone server\n",
    "\n",
    "from langchain_pinecone import PineconeVectorStore\n",
    "#embed each chunk and upsert the embedding into your pinecone index\n",
    "\n",
    "decsearch = PineconeVectorStore.from_existing_index(\n",
    "    index_name = index_name,\n",
    "    embedding = embeddings\n",
    ")"
   ]
  },
  {
   "cell_type": "code",
   "execution_count": 33,
   "id": "69cc8f51",
   "metadata": {},
   "outputs": [],
   "source": [
    "retriever = docsearch.as_retriever(search_type = \"similarity\", search_kwargs = {\"k\":3})"
   ]
  },
  {
   "cell_type": "code",
   "execution_count": 35,
   "id": "09a6018c",
   "metadata": {},
   "outputs": [
    {
     "data": {
      "text/plain": [
       "[Document(id='0d9b3911-7db4-44ce-9d6f-7901c5017b75', metadata={'source': 'data\\\\Medical_book.pdf'}, page_content='GALE ENCYCLOPEDIA OF MEDICINE 226\\nAcne\\nGEM - 0001 to 0432 - A  10/22/03 1:41 PM  Page 26'),\n",
       " Document(id='c342a5d9-3592-4760-841b-397d588e2ac4', metadata={'source': 'data\\\\Medical_book.pdf'}, page_content='GALE ENCYCLOPEDIA OF MEDICINE 2 25\\nAcne\\nAcne vulgaris affecting a woman’s face. Acne is the general\\nname given to a skin disorder in which the sebaceous\\nglands become inflamed. (Photograph by Biophoto Associ-\\nates, Photo Researchers, Inc. Reproduced by permission.)\\nGEM - 0001 to 0432 - A  10/22/03 1:41 PM  Page 25'),\n",
       " Document(id='6353fe2c-4852-4473-a4e8-ac26563ab27d', metadata={'source': 'data\\\\Medical_book.pdf'}, page_content='Acidosis see Respiratory acidosis; Renal\\ntubular acidosis; Metabolic acidosis\\nAcne\\nDefinition\\nAcne is a common skin disease characterized by\\npimples on the face, chest, and back. It occurs when the\\npores of the skin become clogged with oil, dead skin\\ncells, and bacteria.\\nDescription\\nAcne vulgaris, the medical term for common acne, is\\nthe most common skin disease. It affects nearly 17 million\\npeople in the United States. While acne can arise at any')]"
      ]
     },
     "execution_count": 35,
     "metadata": {},
     "output_type": "execute_result"
    }
   ],
   "source": [
    "retrieved_docs = retriever.invoke(\"what is Acne?\")\n",
    "retrieved_docs"
   ]
  },
  {
   "cell_type": "code",
   "execution_count": 37,
   "id": "d7324cd5",
   "metadata": {},
   "outputs": [],
   "source": [
    "from langchain_huggingface import ChatHuggingFace, HuggingFaceEndpoint\n",
    "from langchain_core.output_parsers import StrOutputParser\n",
    "from langchain_core.prompts import ChatPromptTemplate\n",
    "from langchain.chains import create_retrieval_chain\n",
    "from langchain.chains.combine_documents import create_stuff_documents_chain\n",
    "import os\n",
    "from langchain_openai import ChatOpenAI\n",
    "\n",
    "load_dotenv()\n",
    "\n",
    "\n",
    "OPENROUTER_API_KEY = os.getenv(\"OPENROUTER_API_KEY\")\n",
    "if not OPENROUTER_API_KEY:\n",
    "    raise ValueError(\"OpenRouter API key not found. Please set it in the .env file.\")\n",
    "\n",
    "llm = ChatOpenAI(\n",
    "    api_key=OPENROUTER_API_KEY,\n",
    "    base_url=\"https://openrouter.ai/api/v1\",\n",
    "    model=\"mistralai/mistral-7b-instruct\",  # You can also try 'mistral-large'\n",
    "    temperature=0.5\n",
    ")"
   ]
  },
  {
   "cell_type": "code",
   "execution_count": 38,
   "id": "5f74b25d",
   "metadata": {},
   "outputs": [],
   "source": [
    "system_prompt = (\n",
    "    \"you are an medical assistant for question answering tasks. \"\n",
    "    \"use the following pieces of retrieved context to answer \"\n",
    "    \"the question . if you dont know the answer , say that you dnt know \"\n",
    "    \"use three sentences maximum and keep the answer concise\"\n",
    "    \"\\n\\n\"\n",
    "    \"{context}\"\n",
    ")\n",
    "\n",
    "prompt = ChatPromptTemplate.from_messages(\n",
    "    [\n",
    "    (\"system\", system_prompt),\n",
    "    (\"human\", \"{input}\")\n",
    "    ]\n",
    ")"
   ]
  },
  {
   "cell_type": "code",
   "execution_count": 39,
   "id": "143cd386",
   "metadata": {},
   "outputs": [],
   "source": [
    "question_answer_chain = create_stuff_documents_chain(llm, prompt)\n",
    "rag_chain = create_retrieval_chain(retriever, question_answer_chain)"
   ]
  },
  {
   "cell_type": "code",
   "execution_count": 42,
   "id": "e0a796dc",
   "metadata": {},
   "outputs": [
    {
     "name": "stdout",
     "output_type": "stream",
     "text": [
      " Acne is a common skin disease characterized by pimples on the face, chest, and back. It occurs when the pores of the skin become clogged with oil, dead skin cells, and bacteria. Acne vulgaris, the medical term for common acne, is the most common skin disease.\n"
     ]
    }
   ],
   "source": [
    "response = rag_chain.invoke({\"input\": \"what is acne\"})\n",
    "print(response[\"answer\"])"
   ]
  },
  {
   "cell_type": "code",
   "execution_count": null,
   "id": "0f5ab83b",
   "metadata": {},
   "outputs": [],
   "source": []
  }
 ],
 "metadata": {
  "kernelspec": {
   "display_name": "venv",
   "language": "python",
   "name": "python3"
  },
  "language_info": {
   "codemirror_mode": {
    "name": "ipython",
    "version": 3
   },
   "file_extension": ".py",
   "mimetype": "text/x-python",
   "name": "python",
   "nbconvert_exporter": "python",
   "pygments_lexer": "ipython3",
   "version": "3.10.18"
  }
 },
 "nbformat": 4,
 "nbformat_minor": 5
}
